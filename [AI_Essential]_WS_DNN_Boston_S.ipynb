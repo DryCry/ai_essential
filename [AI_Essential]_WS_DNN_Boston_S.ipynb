{
  "cells": [
    {
      "cell_type": "markdown",
      "id": "c0daf611-282e-4298-ab87-aa3586ced5b6",
      "metadata": {
        "id": "c0daf611-282e-4298-ab87-aa3586ced5b6"
      },
      "source": [
        "# [AI Essential] 심층신경망 워크샵\n",
        "\n",
        "## 0. 환경 설정\n",
        "- 필요 모듈 설치"
      ]
    },
    {
      "cell_type": "code",
      "execution_count": null,
      "id": "5167807c-c5d5-472f-a226-724327935e3f",
      "metadata": {
        "scrolled": true,
        "collapsed": true,
        "id": "5167807c-c5d5-472f-a226-724327935e3f",
        "outputId": "2f3f94f5-a264-4031-d3c5-26c8656444e8",
        "colab": {
          "base_uri": "https://localhost:8080/"
        }
      },
      "outputs": [
        {
          "output_type": "stream",
          "name": "stdout",
          "text": [
            "\u001b[2K     \u001b[90m━━━━━━━━━━━━━━━━━━━━━━━━━━━━━━━━━━━━━━━━\u001b[0m \u001b[32m50.4/50.4 kB\u001b[0m \u001b[31m354.5 kB/s\u001b[0m eta \u001b[36m0:00:00\u001b[0m\n",
            "\u001b[2K   \u001b[90m━━━━━━━━━━━━━━━━━━━━━━━━━━━━━━━━━━━━━━━━\u001b[0m \u001b[32m827.8/827.8 kB\u001b[0m \u001b[31m3.5 MB/s\u001b[0m eta \u001b[36m0:00:00\u001b[0m\n",
            "\u001b[2K   \u001b[90m━━━━━━━━━━━━━━━━━━━━━━━━━━━━━━━━━━━━━━━━\u001b[0m \u001b[32m174.5/174.5 kB\u001b[0m \u001b[31m3.1 MB/s\u001b[0m eta \u001b[36m0:00:00\u001b[0m\n",
            "\u001b[2K   \u001b[90m━━━━━━━━━━━━━━━━━━━━━━━━━━━━━━━━━━━━━━━━\u001b[0m \u001b[32m1.0/1.0 MB\u001b[0m \u001b[31m4.8 MB/s\u001b[0m eta \u001b[36m0:00:00\u001b[0m\n",
            "\u001b[2K   \u001b[90m━━━━━━━━━━━━━━━━━━━━━━━━━━━━━━━━━━━━━━━━\u001b[0m \u001b[32m2.3/2.3 MB\u001b[0m \u001b[31m6.0 MB/s\u001b[0m eta \u001b[36m0:00:00\u001b[0m\n",
            "\u001b[2K   \u001b[90m━━━━━━━━━━━━━━━━━━━━━━━━━━━━━━━━━━━━━━━━\u001b[0m \u001b[32m397.0/397.0 kB\u001b[0m \u001b[31m5.0 MB/s\u001b[0m eta \u001b[36m0:00:00\u001b[0m\n",
            "\u001b[2K   \u001b[90m━━━━━━━━━━━━━━━━━━━━━━━━━━━━━━━━━━━━━━━━\u001b[0m \u001b[32m383.5/383.5 kB\u001b[0m \u001b[31m5.5 MB/s\u001b[0m eta \u001b[36m0:00:00\u001b[0m\n",
            "\u001b[2K   \u001b[90m━━━━━━━━━━━━━━━━━━━━━━━━━━━━━━━━━━━━━━━━\u001b[0m \u001b[32m71.1/71.1 kB\u001b[0m \u001b[31m2.5 MB/s\u001b[0m eta \u001b[36m0:00:00\u001b[0m\n",
            "\u001b[2K   \u001b[90m━━━━━━━━━━━━━━━━━━━━━━━━━━━━━━━━━━━━━━━━\u001b[0m \u001b[32m471.6/471.6 kB\u001b[0m \u001b[31m4.9 MB/s\u001b[0m eta \u001b[36m0:00:00\u001b[0m\n",
            "\u001b[2K   \u001b[90m━━━━━━━━━━━━━━━━━━━━━━━━━━━━━━━━━━━━━━━━\u001b[0m \u001b[32m51.5/51.5 kB\u001b[0m \u001b[31m2.1 MB/s\u001b[0m eta \u001b[36m0:00:00\u001b[0m\n",
            "\u001b[2K   \u001b[90m━━━━━━━━━━━━━━━━━━━━━━━━━━━━━━━━━━━━━━━━\u001b[0m \u001b[32m1.2/1.2 MB\u001b[0m \u001b[31m4.6 MB/s\u001b[0m eta \u001b[36m0:00:00\u001b[0m\n",
            "\u001b[2K   \u001b[90m━━━━━━━━━━━━━━━━━━━━━━━━━━━━━━━━━━━━━━━━\u001b[0m \u001b[32m116.3/116.3 kB\u001b[0m \u001b[31m3.2 MB/s\u001b[0m eta \u001b[36m0:00:00\u001b[0m\n",
            "\u001b[2K   \u001b[90m━━━━━━━━━━━━━━━━━━━━━━━━━━━━━━━━━━━━━━━━\u001b[0m \u001b[32m76.4/76.4 kB\u001b[0m \u001b[31m2.0 MB/s\u001b[0m eta \u001b[36m0:00:00\u001b[0m\n",
            "\u001b[2K   \u001b[90m━━━━━━━━━━━━━━━━━━━━━━━━━━━━━━━━━━━━━━━━\u001b[0m \u001b[32m78.0/78.0 kB\u001b[0m \u001b[31m2.8 MB/s\u001b[0m eta \u001b[36m0:00:00\u001b[0m\n",
            "\u001b[2K   \u001b[90m━━━━━━━━━━━━━━━━━━━━━━━━━━━━━━━━━━━━━━━━\u001b[0m \u001b[32m318.9/318.9 kB\u001b[0m \u001b[31m4.7 MB/s\u001b[0m eta \u001b[36m0:00:00\u001b[0m\n",
            "\u001b[2K   \u001b[90m━━━━━━━━━━━━━━━━━━━━━━━━━━━━━━━━━━━━━━━━\u001b[0m \u001b[32m294.6/294.6 kB\u001b[0m \u001b[31m5.8 MB/s\u001b[0m eta \u001b[36m0:00:00\u001b[0m\n",
            "\u001b[2K   \u001b[90m━━━━━━━━━━━━━━━━━━━━━━━━━━━━━━━━━━━━━━━━\u001b[0m \u001b[32m134.8/134.8 kB\u001b[0m \u001b[31m3.1 MB/s\u001b[0m eta \u001b[36m0:00:00\u001b[0m\n",
            "\u001b[2K   \u001b[90m━━━━━━━━━━━━━━━━━━━━━━━━━━━━━━━━━━━━━━━━\u001b[0m \u001b[32m194.1/194.1 kB\u001b[0m \u001b[31m3.9 MB/s\u001b[0m eta \u001b[36m0:00:00\u001b[0m\n",
            "\u001b[2K   \u001b[90m━━━━━━━━━━━━━━━━━━━━━━━━━━━━━━━━━━━━━━━━\u001b[0m \u001b[32m49.3/49.3 kB\u001b[0m \u001b[31m781.0 kB/s\u001b[0m eta \u001b[36m0:00:00\u001b[0m\n",
            "\u001b[2K   \u001b[90m━━━━━━━━━━━━━━━━━━━━━━━━━━━━━━━━━━━━━━━━\u001b[0m \u001b[32m141.9/141.9 kB\u001b[0m \u001b[31m2.2 MB/s\u001b[0m eta \u001b[36m0:00:00\u001b[0m\n",
            "\u001b[2K   \u001b[90m━━━━━━━━━━━━━━━━━━━━━━━━━━━━━━━━━━━━━━━━\u001b[0m \u001b[32m54.5/54.5 kB\u001b[0m \u001b[31m1.1 MB/s\u001b[0m eta \u001b[36m0:00:00\u001b[0m\n",
            "\u001b[2K   \u001b[90m━━━━━━━━━━━━━━━━━━━━━━━━━━━━━━━━━━━━━━━━\u001b[0m \u001b[32m58.3/58.3 kB\u001b[0m \u001b[31m1.9 MB/s\u001b[0m eta \u001b[36m0:00:00\u001b[0m\n",
            "\u001b[?25h"
          ]
        }
      ],
      "source": [
        "!pip install torchinfo boston JAEN -qU"
      ]
    },
    {
      "cell_type": "markdown",
      "id": "c1dc2825-645c-4668-ba5f-43b48a3f19f9",
      "metadata": {
        "id": "c1dc2825-645c-4668-ba5f-43b48a3f19f9"
      },
      "source": [
        "- 필요 모듈 import"
      ]
    },
    {
      "cell_type": "code",
      "execution_count": null,
      "id": "0b364191-1c1c-4e01-8dc6-9f9d3d27b180",
      "metadata": {
        "id": "0b364191-1c1c-4e01-8dc6-9f9d3d27b180",
        "colab": {
          "base_uri": "https://localhost:8080/"
        },
        "outputId": "9e668008-b298-46d1-c153-8b889f0d0016"
      },
      "outputs": [
        {
          "output_type": "execute_result",
          "data": {
            "text/plain": [
              "device(type='cpu')"
            ]
          },
          "metadata": {},
          "execution_count": 2
        }
      ],
      "source": [
        "import torch\n",
        "import torch.nn as nn\n",
        "import torch.optim as optim\n",
        "from torchinfo import summary\n",
        "from boston import load_boston\n",
        "from torch.utils.data import DataLoader, TensorDataset\n",
        "\n",
        "# 장치 확인\n",
        "device = torch.device(\"cuda\" if torch.cuda.is_available() else \"cpu\")\n",
        "device"
      ]
    },
    {
      "cell_type": "markdown",
      "id": "d3288e4c-f50f-49e6-8c65-bca2590686e0",
      "metadata": {
        "id": "d3288e4c-f50f-49e6-8c65-bca2590686e0"
      },
      "source": [
        "## Boston Dataset\n",
        "\n",
        "##### 개요\n",
        "- Boston 데이터 세트는 주택 가격 예측을 위한 데이터 세트 (회귀 분석 문제)\n",
        "- 보스턴의 여러 구역에서 주택 가격에 영향을 미치는 다양한 요인들을 포함하고 있음\n",
        "\n",
        "##### 주요 특징\n",
        "- 목적: 주어진 특성을 바탕으로 보스턴 각 지역의 주택 가격(중앙값)을 예측하는 것.\n",
        "- 총 샘플 수: 506개의 데이터 포인트.\n",
        "- 특성 수: 13개의 설명 변수(특성)와 1개의 목표 변수(주택 가격).\n",
        "\n",
        "##### 특성\n",
        "- CRIM: 자치시(town) 별 1인당 범죄율.\n",
        "- ZN: 25,000 평방피트 이상의 주거지역 비율.\n",
        "- INDUS: 비소매 상업 지역 비율(도시 별).\n",
        "- CHAS: 찰스 강과 인접 여부(1: 강 인접, 0: 인접하지 않음).\n",
        "- NOX: 일산화질소 농도 (백만 분의 일).\n",
        "- RM: 주택당 평균 방 개수.\n",
        "- AGE: 1940년 이전에 건축된 소유 주택 비율.\n",
        "- DIS: 5개의 보스턴 고용센터까지의 가중 거리.\n",
        "- RAD: 방사형 고속도로 접근성 지수.\n",
        "- TAX: 10,000달러당 재산세율.\n",
        "- PTRATIO: 지역별 학생-교사 비율.\n",
        "- B: 지역별 흑인 비율.\n",
        "- LSTAT: 하위 계층의 비율.\n",
        "- MEDV: 주택 가격의 중앙값(단위: 1,000달러)."
      ]
    },
    {
      "cell_type": "markdown",
      "id": "5e08eb03-629e-4ede-9878-a5a65b293d14",
      "metadata": {
        "id": "5e08eb03-629e-4ede-9878-a5a65b293d14"
      },
      "source": [
        "## 1. 데이터 불러오기 및 전처리"
      ]
    },
    {
      "cell_type": "code",
      "execution_count": null,
      "id": "21c7b098-cb64-4864-82e0-4acc51063b30",
      "metadata": {
        "id": "21c7b098-cb64-4864-82e0-4acc51063b30",
        "colab": {
          "base_uri": "https://localhost:8080/"
        },
        "outputId": "51af05f4-602f-4061-bf5a-7bfcdbfefd30"
      },
      "outputs": [
        {
          "output_type": "execute_result",
          "data": {
            "text/plain": [
              "(torch.Size([506, 13]), torch.Size([506, 1]))"
            ]
          },
          "metadata": {},
          "execution_count": 43
        }
      ],
      "source": [
        "# 데이터셋 로드\n",
        "data = load_boston()\n",
        "X, y = torch.tensor(data.data, dtype=torch.float32), torch.tensor(data.target, dtype=torch.float32).view(-1, 1)\n",
        "X.shape, y.shape"
      ]
    },
    {
      "cell_type": "code",
      "execution_count": null,
      "id": "97971189-ef91-4d36-9662-6f2262cd9bc6",
      "metadata": {
        "id": "97971189-ef91-4d36-9662-6f2262cd9bc6",
        "colab": {
          "base_uri": "https://localhost:8080/"
        },
        "outputId": "0f88149c-7300-4c37-cc69-1ec8b36da918"
      },
      "outputs": [
        {
          "output_type": "execute_result",
          "data": {
            "text/plain": [
              "(tensor([-1.6020e-08, -1.5078e-08, -1.3382e-07, -1.1308e-08,  4.2854e-07,\n",
              "          3.9202e-07,  1.2486e-07, -3.3925e-08,  7.2562e-08,  9.4237e-09,\n",
              "         -5.3244e-08, -4.6576e-07,  5.5600e-08]),\n",
              " tensor([1.0000, 1.0000, 1.0000, 1.0000, 1.0000, 1.0000, 1.0000, 1.0000, 1.0000,\n",
              "         1.0000, 1.0000, 1.0000, 1.0000]))"
            ]
          },
          "metadata": {},
          "execution_count": 44
        }
      ],
      "source": [
        "# 특성 데이터 표준화\n",
        "X_means = X.mean(dim=0)\n",
        "X_stds = X.std(dim=0)\n",
        "\n",
        "X = (X-X_means)/X_stds\n",
        "X.mean(dim=0), X.std(dim=0)"
      ]
    },
    {
      "cell_type": "code",
      "source": [
        "# 학습 및 테스트 데이터셋 분리\n",
        "torch.manual_seed(42)\n",
        "indeces = torch.randperm(506)\n",
        "test_rate = 0.2\n",
        "test_size = int(X.shape[0]*test_rate)\n",
        "X_train, X_test = X[indeces][:-test_size], X[indeces][-test_size:]\n",
        "y_train, y_test = y[indeces][:-test_size], y[indeces][-test_size:]\n",
        "X_train.shape, X_test.shape, y_train.shape, y_test.shape"
      ],
      "metadata": {
        "colab": {
          "base_uri": "https://localhost:8080/"
        },
        "collapsed": true,
        "id": "ZjSC54-aiSQv",
        "outputId": "d75f00af-8e30-486e-8620-15e346dadfd3"
      },
      "id": "ZjSC54-aiSQv",
      "execution_count": null,
      "outputs": [
        {
          "output_type": "execute_result",
          "data": {
            "text/plain": [
              "(torch.Size([405, 13]),\n",
              " torch.Size([101, 13]),\n",
              " torch.Size([405, 1]),\n",
              " torch.Size([101, 1]))"
            ]
          },
          "metadata": {},
          "execution_count": 45
        }
      ]
    },
    {
      "cell_type": "code",
      "execution_count": null,
      "id": "a3ae8237-c500-4336-ba80-e102a6d392e9",
      "metadata": {
        "id": "a3ae8237-c500-4336-ba80-e102a6d392e9"
      },
      "outputs": [],
      "source": [
        "# Dataset 및 DataLoader 생성\n",
        "train_loader = DataLoader(TensorDataset(X_train, y_train), batch_size=32, shuffle=True)\n",
        "test_loader = DataLoader(TensorDataset(X_test, y_test), batch_size=32, shuffle=False)"
      ]
    },
    {
      "cell_type": "code",
      "execution_count": null,
      "id": "982fa8c1-5713-4931-b1c0-4782b11dec9a",
      "metadata": {
        "id": "982fa8c1-5713-4931-b1c0-4782b11dec9a",
        "outputId": "02baef98-b2bd-42ed-f7a7-87fdd713ade9",
        "colab": {
          "base_uri": "https://localhost:8080/"
        },
        "collapsed": true
      },
      "outputs": [
        {
          "output_type": "stream",
          "name": "stdout",
          "text": [
            "Batch 1\n",
            "Data: tensor([[ 4.8983, -0.4872,  1.0150, -0.2723,  1.1935, -2.5129,  1.1164, -1.0148,\n",
            "          1.6596,  1.5294,  0.8058, -2.9400,  3.4066],\n",
            "        [ 0.4913, -0.4872,  1.0150, -0.2723,  0.8656, -0.1076, -0.1128, -0.3949,\n",
            "          1.6596,  1.5294,  0.8058,  0.4406,  0.0794],\n",
            "        [-0.1702, -0.4872,  1.2307, -0.2723,  2.7296, -0.8193,  1.0631, -1.0314,\n",
            "         -0.5225, -0.0311, -1.7347, -1.0376,  0.4393],\n",
            "        [-0.4158,  0.3703, -1.1380, -0.2723, -0.9648,  0.9726, -1.1146,  0.6884,\n",
            "         -0.5225, -1.1406, -1.6423,  0.3895, -1.1291],\n",
            "        [-0.3459, -0.4872, -0.4368, -0.2723, -0.1441, -0.2685,  0.5657,  0.3167,\n",
            "         -0.6373, -0.6007,  1.1753,  0.2557, -0.3351],\n",
            "        [-0.4135,  1.2278, -0.6890,  3.6648, -0.9294,  0.6737, -1.2674,  0.1342,\n",
            "         -0.6373, -0.9152, -0.3952,  0.4406, -1.2775],\n",
            "        [-0.4109, -0.4872,  0.2468, -0.2723, -1.0157, -0.0166, -2.2230,  0.2168,\n",
            "         -0.5225, -0.0607,  0.1129,  0.4189, -0.8224],\n",
            "        [-0.3282, -0.4872, -0.1803, -0.2723, -0.0923, -0.2315, -0.5604, -0.5484,\n",
            "         -0.6373, -0.6185, -0.0257,  0.4406, -0.9345],\n",
            "        [ 2.3292, -0.4872,  1.0150, -0.2723,  1.0037,  0.1357,  0.9814, -1.1440,\n",
            "          1.6596,  1.5294,  0.8058,  0.4406,  1.5456],\n",
            "        [ 0.7328, -0.4872,  1.0150, -0.2723,  1.1935, -0.6157,  0.3277, -1.0897,\n",
            "          1.6596,  1.5294,  0.8058, -0.2028,  2.4250],\n",
            "        [ 0.5164, -0.4872,  1.0150, -0.2723,  0.2529, -1.2206,  0.9530, -0.6484,\n",
            "          1.6596,  1.5294,  0.8058, -0.0448,  0.7684],\n",
            "        [-0.3289, -0.4872, -0.4368, -0.2723, -0.1441, -0.4193,  0.4663,  0.2198,\n",
            "         -0.6373, -0.6007,  1.1753,  0.3294,  0.2824],\n",
            "        [-0.2108, -0.4872,  1.2307, -0.2723,  0.4341, -0.5802,  0.3775, -0.6502,\n",
            "         -0.5225, -0.0311, -1.7347, -1.4137, -0.0718],\n",
            "        [-0.3242,  0.3703, -1.0447, -0.2723,  0.7966,  1.4835,  0.9210, -0.8150,\n",
            "         -0.5225, -0.8558, -2.5199,  0.4025, -0.1965],\n",
            "        [-0.2640, -0.4872,  1.2307, -0.2723,  0.4341, -0.3112,  1.1164, -0.9677,\n",
            "         -0.5225, -0.0311, -1.7347, -0.0305, -0.8714],\n",
            "        [-0.3921, -0.4872, -0.5476, -0.2723, -0.5324, -0.2870, -0.8837,  0.7697,\n",
            "         -0.5225, -0.7193,  0.5286,  0.4406,  0.0192],\n",
            "        [-0.4186,  1.0135, -1.4018, -0.2723, -0.9725,  1.3611, -0.6847,  1.5400,\n",
            "         -0.9819, -0.7372, -1.3652,  0.4170, -1.0031],\n",
            "        [-0.4130, -0.4872,  0.1156, -0.2723,  0.1580,  0.9840,  0.7967, -0.7729,\n",
            "         -0.9819, -0.8024,  1.1753,  0.4406, -0.9821],\n",
            "        [-0.3764, -0.4872, -0.0797,  3.6648, -0.5669, -1.2534,  0.7114, -0.0618,\n",
            "         -0.6373, -0.7787,  0.0667,  0.4224,  1.5862],\n",
            "        [-0.4048, -0.4872, -0.1642, -0.2723, -0.0664, -0.1546,  0.1394, -0.5057,\n",
            "         -0.4076,  0.1410, -0.3028,  0.4012, -0.0859],\n",
            "        [-0.4146, -0.4872,  0.1156, -0.2723,  0.1580, -0.3624,  0.4343, -0.6126,\n",
            "         -0.9819, -0.8024,  1.1753,  0.4406, -0.6684],\n",
            "        [-0.3573,  0.3703, -1.0447, -0.2723,  0.7966,  1.3071,  0.4698, -0.7992,\n",
            "         -0.5225, -0.8558, -2.5199,  0.3957, -0.4289],\n",
            "        [ 0.0260, -0.4872,  1.0150, -0.2723,  1.8580, -0.0479,  0.8002, -0.7121,\n",
            "          1.6596,  1.5294,  0.8058, -0.0660,  0.2152],\n",
            "        [-0.4093,  0.7991, -0.9047, -0.2723, -1.0934,  0.4574, -0.9370,  1.1373,\n",
            "         -0.4076, -0.6422, -0.8571,  0.2969, -0.7398],\n",
            "        [-0.4148, -0.4872,  0.1156, -0.2723,  0.1580, -0.2343,  0.2886, -0.7159,\n",
            "         -0.9819, -0.8024,  1.1753,  0.4406, -0.5004],\n",
            "        [-0.3972,  0.4561, -0.7692, -0.2723, -1.0675, -0.0835,  0.3775,  2.0233,\n",
            "         -0.2928, -0.4642,  0.2977,  0.2132, -0.3505],\n",
            "        [-0.4073,  0.5847, -0.8756, -0.2723, -0.8776,  0.2439, -0.0275,  1.6291,\n",
            "         -0.1779, -0.7372,  0.5748,  0.4406, -0.8294],\n",
            "        [-0.4068, -0.4872,  0.4013,  3.6648, -0.0405,  0.1258,  0.8464, -0.2050,\n",
            "         -0.5225, -0.7846, -0.9495,  0.4060, -0.3015],\n",
            "        [-0.4053,  0.7991, -0.9047, -0.2723, -1.0934,  0.1542, -2.1591,  1.5389,\n",
            "         -0.4076, -0.6422, -0.8571,  0.1976, -1.0451],\n",
            "        [-0.4159,  0.3703, -1.1380, -0.2723, -0.9648,  2.1852, -0.1448,  0.4272,\n",
            "         -0.5225, -1.1406, -1.6423,  0.3356, -1.2453],\n",
            "        [-0.4123, -0.4872, -1.1511, -0.2723, -0.8172,  0.0688, -1.8251,  0.6741,\n",
            "         -0.6373,  0.1291, -0.7185,  0.2030, -0.7440],\n",
            "        [-0.1435, -0.4872,  1.2307, -0.2723,  2.7296, -0.2201,  1.1164, -1.1283,\n",
            "         -0.5225, -0.0311, -1.7347, -2.0129,  2.1211]])\n",
            "Target: tensor([[ 7.0000],\n",
            "        [21.4000],\n",
            "        [19.4000],\n",
            "        [35.4000],\n",
            "        [18.2000],\n",
            "        [32.4000],\n",
            "        [24.1000],\n",
            "        [22.1000],\n",
            "        [13.1000],\n",
            "        [ 6.3000],\n",
            "        [13.8000],\n",
            "        [17.5000],\n",
            "        [23.8000],\n",
            "        [31.0000],\n",
            "        [24.3000],\n",
            "        [22.2000],\n",
            "        [32.7000],\n",
            "        [23.9000],\n",
            "        [19.3000],\n",
            "        [21.2000],\n",
            "        [11.9000],\n",
            "        [33.8000],\n",
            "        [19.9000],\n",
            "        [23.3000],\n",
            "        [20.6000],\n",
            "        [20.5000],\n",
            "        [22.2000],\n",
            "        [23.0000],\n",
            "        [23.7000],\n",
            "        [45.4000],\n",
            "        [22.6000],\n",
            "        [13.8000]])\n"
          ]
        }
      ],
      "source": [
        "# DataLoader 사용 예시\n",
        "for batch_idx, (data, target) in enumerate(train_loader):\n",
        "    print(f\"Batch {batch_idx+1}\")\n",
        "    print(\"Data:\", data)\n",
        "    print(\"Target:\", target)\n",
        "    break  # 한 번만 출력"
      ]
    },
    {
      "cell_type": "markdown",
      "id": "ee35e609-a11a-47ac-a909-34e7a05b8283",
      "metadata": {
        "id": "ee35e609-a11a-47ac-a909-34e7a05b8283"
      },
      "source": [
        "## 2. 모델 정의"
      ]
    },
    {
      "cell_type": "code",
      "execution_count": null,
      "id": "725795d1-1700-4ec0-a085-523ca65347a3",
      "metadata": {
        "id": "725795d1-1700-4ec0-a085-523ca65347a3",
        "outputId": "f56d74cb-d9cb-4175-f7cb-c9be5a065bc0",
        "colab": {
          "base_uri": "https://localhost:8080/"
        }
      },
      "outputs": [
        {
          "output_type": "execute_result",
          "data": {
            "text/plain": [
              "==========================================================================================\n",
              "Layer (type:depth-idx)                   Output Shape              Param #\n",
              "==========================================================================================\n",
              "DNNModel                                 [32, 1]                   --\n",
              "├─Linear: 1-1                            [32, 32]                  448\n",
              "├─ReLU: 1-2                              [32, 32]                  --\n",
              "├─Linear: 1-3                            [32, 64]                  2,112\n",
              "├─ReLU: 1-4                              [32, 64]                  --\n",
              "├─Linear: 1-5                            [32, 128]                 8,320\n",
              "├─ReLU: 1-6                              [32, 128]                 --\n",
              "├─Linear: 1-7                            [32, 1]                   129\n",
              "==========================================================================================\n",
              "Total params: 11,009\n",
              "Trainable params: 11,009\n",
              "Non-trainable params: 0\n",
              "Total mult-adds (M): 0.35\n",
              "==========================================================================================\n",
              "Input size (MB): 0.00\n",
              "Forward/backward pass size (MB): 0.06\n",
              "Params size (MB): 0.04\n",
              "Estimated Total Size (MB): 0.10\n",
              "=========================================================================================="
            ]
          },
          "metadata": {},
          "execution_count": 50
        }
      ],
      "source": [
        "# 심층 신경망(DNN) 모델 정의\n",
        "class DNNModel(nn.Module):\n",
        "    def __init__(self):\n",
        "        super(DNNModel, self).__init__()\n",
        "        # 첫 번째 은닉층\n",
        "        self.fc1 = nn.Linear(13, 32)\n",
        "        self.relu1 = nn.ReLU()  # 활성화 함수\n",
        "\n",
        "        # 두 번째 은닉층\n",
        "        self.fc2 = nn.Linear(32, 64)\n",
        "        self.relu2 = nn.ReLU()  # 활성화 함수\n",
        "\n",
        "        # 세 번째 은닉층\n",
        "        self.fc3 = nn.Linear(64, 128)\n",
        "        self.relu3 = nn.ReLU()  # 활성화 함수\n",
        "\n",
        "        # 출력층 (회귀 문제이므로 활성화 함수 없음)\n",
        "        self.fc4 = nn.Linear(128, 1)\n",
        "\n",
        "    def forward(self, x):\n",
        "        x = self.fc1(x)\n",
        "        x = self.relu1(x)\n",
        "\n",
        "        x = self.fc2(x)\n",
        "        x = self.relu2(x)\n",
        "\n",
        "        x = self.fc3(x)\n",
        "        x = self.relu3(x)\n",
        "\n",
        "        x = self.fc4(x)\n",
        "        return x\n",
        "\n",
        "model = DNNModel().to(device)\n",
        "summary(model, (32, 13))"
      ]
    },
    {
      "cell_type": "markdown",
      "id": "8b76bfbf-c125-4b55-a395-acbed0f1e542",
      "metadata": {
        "id": "8b76bfbf-c125-4b55-a395-acbed0f1e542"
      },
      "source": [
        "## 3. 손실함수 및 옵티마이저 정의"
      ]
    },
    {
      "cell_type": "code",
      "execution_count": null,
      "id": "f802360f-c178-456f-a620-c5a01b8d6a7e",
      "metadata": {
        "id": "f802360f-c178-456f-a620-c5a01b8d6a7e"
      },
      "outputs": [],
      "source": [
        "# 손실 함수와 옵티마이저 정의\n",
        "lr = 0.001\n",
        "criterion = nn.MSELoss()  # 손실 함수: 평균 제곱 오차 (MSE)\n",
        "optimizer = optim.Adam(model.parameters(), lr=lr)  # 옵티마이저: Adam"
      ]
    },
    {
      "cell_type": "markdown",
      "id": "6b1903f4-42de-4963-8c8e-b791e77f211c",
      "metadata": {
        "id": "6b1903f4-42de-4963-8c8e-b791e77f211c"
      },
      "source": [
        "## 4. 학습 및 평가함수 정의"
      ]
    },
    {
      "cell_type": "code",
      "execution_count": null,
      "id": "f197a825-ba96-44e8-a867-13a5afc0dd64",
      "metadata": {
        "id": "f197a825-ba96-44e8-a867-13a5afc0dd64",
        "outputId": "0a9c4f3e-5188-4082-87dc-990b979ce799",
        "colab": {
          "base_uri": "https://localhost:8080/"
        }
      },
      "outputs": [
        {
          "output_type": "stream",
          "name": "stdout",
          "text": [
            "Epoch [1/100]\n",
            "Train Loss: 578.0305\n",
            "Test Loss: 597.4517\n",
            "--------------------------------------------------\n",
            "Epoch [11/100]\n",
            "Train Loss: 19.4018\n",
            "Test Loss: 28.9212\n",
            "--------------------------------------------------\n",
            "Epoch [21/100]\n",
            "Train Loss: 13.6568\n",
            "Test Loss: 21.6225\n",
            "--------------------------------------------------\n",
            "Epoch [31/100]\n",
            "Train Loss: 11.4687\n",
            "Test Loss: 18.9591\n",
            "--------------------------------------------------\n",
            "Epoch [41/100]\n",
            "Train Loss: 10.1299\n",
            "Test Loss: 17.4133\n",
            "--------------------------------------------------\n",
            "Epoch [51/100]\n",
            "Train Loss: 9.4021\n",
            "Test Loss: 16.1317\n",
            "--------------------------------------------------\n",
            "Epoch [61/100]\n",
            "Train Loss: 8.7274\n",
            "Test Loss: 15.2265\n",
            "--------------------------------------------------\n",
            "Epoch [71/100]\n",
            "Train Loss: 8.2970\n",
            "Test Loss: 13.6728\n",
            "--------------------------------------------------\n",
            "Epoch [81/100]\n",
            "Train Loss: 7.9382\n",
            "Test Loss: 12.9467\n",
            "--------------------------------------------------\n",
            "Epoch [91/100]\n",
            "Train Loss: 7.3253\n",
            "Test Loss: 12.9552\n",
            "--------------------------------------------------\n"
          ]
        }
      ],
      "source": [
        "num_epochs = 100\n",
        "\n",
        "for epoch in range(num_epochs):\n",
        "    model.train()  # 모델을 학습 모드로 전환\n",
        "    train_loss = 0.0\n",
        "\n",
        "    # 4.1. 학습 과정\n",
        "    for inputs, targets in train_loader:\n",
        "        inputs, targets = inputs.to(device), targets.to(device)  # 데이터를 device로 이동\n",
        "        optimizer.zero_grad()  # 이전에 계산한 gradients를 초기화\n",
        "\n",
        "        # 순전파\n",
        "        outputs = model(inputs)\n",
        "        loss = criterion(outputs, targets)\n",
        "\n",
        "        # 역전파\n",
        "        loss.backward()\n",
        "        optimizer.step()\n",
        "\n",
        "        train_loss += loss * inputs.shape[0] / len(train_loader.dataset)\n",
        "\n",
        "    # 4.2. 평가 과정 (매 에폭마다 테스트 데이터에서 성능을 측정)\n",
        "    model.eval()  # 모델을 평가 모드로 전환\n",
        "    test_loss = 0.0\n",
        "    predictions = []\n",
        "    actuals = []\n",
        "\n",
        "    with torch.no_grad():  # 평가 시에는 gradients 계산하지 않음\n",
        "        for inputs, targets in test_loader:\n",
        "            inputs, targets = inputs.to(device), targets.to(device)  # 데이터를 device로 이동\n",
        "            outputs = model(inputs)\n",
        "            loss = criterion(outputs, targets)\n",
        "            test_loss += loss * inputs.shape[0] / len(test_loader.dataset)\n",
        "\n",
        "            # 예측값과 실제값을 저장 (평가용)\n",
        "            predictions.append(outputs)\n",
        "            actuals.append(targets)\n",
        "\n",
        "    # 4.3. 에폭 결과 출력\n",
        "    if epoch % 10 == 0:\n",
        "        print(f\"Epoch [{epoch+1}/{num_epochs}]\")\n",
        "        print(f\"Train Loss: {train_loss:.4f}\")\n",
        "        print(f\"Test Loss: {test_loss:.4f}\")\n",
        "        print(\"-\" * 50)"
      ]
    },
    {
      "cell_type": "code",
      "execution_count": null,
      "id": "cf2f6657-2385-4cd4-ab8b-f8b02bad3cda",
      "metadata": {
        "id": "cf2f6657-2385-4cd4-ab8b-f8b02bad3cda"
      },
      "outputs": [],
      "source": [
        "model.eval()  # 모델을 평가 모드로 전환\n",
        "test_loss = 0.0\n",
        "predictions = []\n",
        "actuals = []\n",
        "\n",
        "with torch.no_grad():  # 평가 시에는 gradients 계산하지 않음\n",
        "    for inputs, targets in test_loader:\n",
        "        inputs, targets = inputs.to(device), targets.to(device)  # 데이터를 device로 이동\n",
        "        outputs = model(inputs)\n",
        "        loss = criterion(outputs, targets)\n",
        "        test_loss += loss * inputs.shape[0] / len(test_loader.dataset)\n",
        "\n",
        "        # 예측 값 생성\n",
        "        predictions.append(outputs)\n",
        "        actuals.append(targets)"
      ]
    },
    {
      "cell_type": "code",
      "execution_count": null,
      "id": "d36479da-92da-4f7d-9c0f-d4cb1304b96d",
      "metadata": {
        "id": "d36479da-92da-4f7d-9c0f-d4cb1304b96d",
        "outputId": "1e76246b-ba36-4f7d-8b68-0a82f171992b",
        "colab": {
          "base_uri": "https://localhost:8080/"
        }
      },
      "outputs": [
        {
          "output_type": "stream",
          "name": "stdout",
          "text": [
            "mse: 12.5206\n",
            "rmse: 3.5385\n",
            "mae: 2.1680\n"
          ]
        }
      ],
      "source": [
        "# mse, rmse, mae 계산\n",
        "predictions = torch.cat(predictions)\n",
        "actuals = torch.cat(actuals)\n",
        "print(f'mse: {((actuals-predictions)**2).mean().item():.4f}')\n",
        "print(f'rmse: {((actuals-predictions)**2).mean().sqrt().item():.4f}')\n",
        "print(f'mae: {(actuals-predictions).abs().mean().item():.4f}')"
      ]
    },
    {
      "cell_type": "code",
      "source": [
        "# 사이킷런\n",
        "from sklearn.metrics import mean_squared_error, mean_absolute_error, root_mean_squared_error\n",
        "\n",
        "predictions = predictions.cpu().numpy()\n",
        "actuals = actuals.cpu().numpy()\n",
        "print(f'mse: {mean_squared_error(actuals, predictions):.4f}')\n",
        "print(f'rmse: {root_mean_squared_error(actuals, predictions):.4f}')\n",
        "print(f'mae: {mean_absolute_error(actuals, predictions):.4f}')"
      ],
      "metadata": {
        "colab": {
          "base_uri": "https://localhost:8080/"
        },
        "id": "H5S9El90u9Hc",
        "outputId": "d97e9964-3878-479d-b8fa-5d55123637ac"
      },
      "id": "H5S9El90u9Hc",
      "execution_count": null,
      "outputs": [
        {
          "output_type": "stream",
          "name": "stdout",
          "text": [
            "mse: 12.5206\n",
            "rmse: 3.5385\n",
            "mae: 2.1680\n"
          ]
        }
      ]
    }
  ],
  "metadata": {
    "kernelspec": {
      "display_name": "Python 3 (ipykernel)",
      "language": "python",
      "name": "python3"
    },
    "language_info": {
      "codemirror_mode": {
        "name": "ipython",
        "version": 3
      },
      "file_extension": ".py",
      "mimetype": "text/x-python",
      "name": "python",
      "nbconvert_exporter": "python",
      "pygments_lexer": "ipython3",
      "version": "3.10.14"
    },
    "colab": {
      "provenance": []
    }
  },
  "nbformat": 4,
  "nbformat_minor": 5
}